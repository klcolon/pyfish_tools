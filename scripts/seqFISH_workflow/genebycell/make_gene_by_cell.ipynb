{
 "cells": [
  {
   "cell_type": "markdown",
   "metadata": {},
   "source": [
    "# Note: Read the headers and choose what works best for your case."
   ]
  },
  {
   "cell_type": "code",
   "execution_count": 1,
   "metadata": {},
   "outputs": [],
   "source": [
    "#general packages\n",
    "import pandas as pd\n",
    "import numpy as np\n",
    "from pathlib import Path\n",
    "#custom function\n",
    "from make_gene_by_cell import *"
   ]
  },
  {
   "cell_type": "markdown",
   "metadata": {},
   "source": [
    "# Run this cell for finding best z slice"
   ]
  },
  {
   "cell_type": "code",
   "execution_count": 4,
   "metadata": {},
   "outputs": [
    {
     "name": "stdout",
     "output_type": "stream",
     "text": [
      "mean percent decoded = 19.88\n"
     ]
    }
   ],
   "source": [
    "#take best percent decoded z's\n",
    "#quality score is the a percent decoded cutoff (kind of like QScore)\n",
    "src = \"/path/to/data/pyfish_tools/output/decoded/final_1.01.41.4_seed33_heg_svm_p20.0_diff1_fdr5.0/Channel_1\"\n",
    "gene_loc_dir = get_best_z(src, quality_score = 0.10, unfiltered=False)"
   ]
  },
  {
   "cell_type": "code",
   "execution_count": 5,
   "metadata": {},
   "outputs": [],
   "source": [
    "#output directory\n",
    "params = Path(src).parent.name\n",
    "outputdir = str(Path(src).parent.parent.parent / \"genebycell\" / params)\n",
    "\n",
    "#mask directory (set to None if you don't want gene density matrix)\n",
    "mask_dir = str(Path(src).parent.parent.parent/ \"edges_deleted\")\n",
    "\n",
    "#total counts each cell must be above (set to 0 if you don't want to filter)\n",
    "counts_threshold = 10\n",
    "\n",
    "#pixel size in micrometer (if mask_dir is None then this does not matter)\n",
    "pixel = 0.108\n",
    "\n",
    "#which channel (write \"all\" if encoded across channels)\n",
    "channel = 1\n",
    "\n",
    "#function to create gene by cell matrix\n",
    "make_genebycell(gene_loc_dir = gene_loc_dir, mask_dir = mask_dir, output_dir = outputdir,  \n",
    "                    counts_threshold = counts_threshold, pixel = pixel,\n",
    "                    channel = channel)"
   ]
  },
  {
   "cell_type": "code",
   "execution_count": null,
   "metadata": {},
   "outputs": [],
   "source": []
  }
 ],
 "metadata": {
  "kernelspec": {
   "display_name": "Python3.7",
   "language": "python",
   "name": "python3.7"
  },
  "language_info": {
   "codemirror_mode": {
    "name": "ipython",
    "version": 3
   },
   "file_extension": ".py",
   "mimetype": "text/x-python",
   "name": "python",
   "nbconvert_exporter": "python",
   "pygments_lexer": "ipython3",
   "version": "3.7.0"
  }
 },
 "nbformat": 4,
 "nbformat_minor": 4
}
