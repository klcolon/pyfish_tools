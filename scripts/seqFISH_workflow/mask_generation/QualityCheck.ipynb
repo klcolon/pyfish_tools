{
 "cells": [
  {
   "cell_type": "markdown",
   "metadata": {},
   "source": [
    "# Quality Check"
   ]
  },
  {
   "cell_type": "code",
   "execution_count": null,
   "metadata": {},
   "outputs": [],
   "source": [
    "#import functions\n",
    "import plotly.express as px\n",
    "from pathlib import Path\n",
    "import numpy as np\n",
    "import skimage.io\n",
    "from tqdm import tqdm\n",
    "import matplotlib.pyplot as plt\n",
    "import matplotlib as mpl\n",
    "from util import pil_imread\n",
    "import tifffile as tf\n",
    "\n",
    "def read_images(files, num_channels=4, max_project = True):\n",
    "\n",
    "    #Read in images\n",
    "    imgs = []\n",
    "    for i in tqdm(range(len(files))):\n",
    "        try:\n",
    "            img = pil_imread(files[i], num_channels = num_channels, swapaxes=True)\n",
    "            if img.shape[1] != num_channels:\n",
    "                img = pil_imread(files[i], num_channels = num_channels, swapaxes=False)\n",
    "        except:\n",
    "            img = pil_imread(files[i], num_channels=None, swapaxes=True)\n",
    "            if img.shape[1] != num_channels:\n",
    "                img = pil_imread(files[i], num_channels=None, swapaxes=False)\n",
    "        if max_project == True:\n",
    "            imgs.append(np.max(img,axis=0))\n",
    "        else:\n",
    "            imgs.append(img)\n",
    "            \n",
    "    return imgs"
   ]
  },
  {
   "cell_type": "code",
   "execution_count": null,
   "metadata": {},
   "outputs": [],
   "source": [
    "# Load the images: \n",
    "input_directory = \"/segmentation/image/path/*.tif\"\n",
    "files=glob.glob(input_directory)\n",
    "#organize files numerically\n",
    "key = [int(re.search('MMStack_Pos(\\\\d+)', f).group(1)) for f in files]\n",
    "files = list(np.array(files)[np.argsort(key)])"
   ]
  },
  {
   "cell_type": "code",
   "execution_count": null,
   "metadata": {},
   "outputs": [],
   "source": [
    "#read in images\n",
    "#don't forget to adjust number of channels if it is not 4!\n",
    "#max project if you have many slices but still single cell\n",
    "imgs = read_images(files, num_channels=2, max_project=True)"
   ]
  },
  {
   "cell_type": "code",
   "execution_count": null,
   "metadata": {},
   "outputs": [],
   "source": [
    "#Z, C, X, Y \n",
    "imgs[0].shape"
   ]
  },
  {
   "cell_type": "code",
   "execution_count": null,
   "metadata": {},
   "outputs": [],
   "source": [
    "#write out max projected or stacked masks in same directory\n",
    "import tifffile as tf\n",
    "for i, img in enumerate(imgs):\n",
    "    name = files[i].split(\"/\")[-1]\n",
    "    tf.imwrite(name,img)"
   ]
  },
  {
   "cell_type": "markdown",
   "metadata": {},
   "source": [
    "# Load masks"
   ]
  },
  {
   "cell_type": "code",
   "execution_count": null,
   "metadata": {},
   "outputs": [],
   "source": [
    "# Load segmentation mask\n",
    "seg_mask = np.load('./images/MMStack_Pos0.ome_seg.npy', allow_pickle=True)"
   ]
  },
  {
   "cell_type": "code",
   "execution_count": null,
   "metadata": {},
   "outputs": [],
   "source": [
    "#check quality\n",
    "plt.imshow(seg_mask.item()[\"outlines\"], cmap=\"binary\", vmin=0, vmax=0.1)\n",
    "plt.show()"
   ]
  },
  {
   "cell_type": "code",
   "execution_count": null,
   "metadata": {},
   "outputs": [],
   "source": [
    "from glob import glob\n",
    "import os\n",
    "\n",
    "#grab all segmentatio files from cellpose3\n",
    "files = glob(\"/path/to/cellpose/outputs/mask_generation/images/*.npy\")\n",
    "\n",
    "#create directroy\n",
    "parent = Path(files[0]).parent\n",
    "while \"output\" not in os.listdir(parent):\n",
    "    parent = parent.parent\n",
    "direct = parent / \"output\" / \"masks\"\n",
    "direct.mkdir(exist_ok = True, parents=True)\n",
    "\n",
    "#number of z copies if you are using the same mask for different z spot locations\n",
    "z_copies = 9\n",
    "\n",
    "for src in files:\n",
    "    #create file name\n",
    "    name = src.split(\"/\")[-1]\n",
    "    name2 = name.replace(\"ome_seg.npy\", \".tif\")\n",
    "\n",
    "    #load masks from stacked array\n",
    "    seg_mask = np.load(src, allow_pickle=True)\n",
    "    mask = seg_mask.item()[\"masks\"]\n",
    "    if z_copies > 0:\n",
    "        for z in range(z_copies):\n",
    "            name3 = name.replace(\".ome_seg.npy\", f\"_z{z}.tif\")\n",
    "            #write out masks\n",
    "            output_path = direct / name3\n",
    "            tf.imwrite(str(output_path), mask)\n",
    "    else:\n",
    "        #write out masks\n",
    "        output_path = direct / name2\n",
    "        tf.imwrite(str(output_path), mask)"
   ]
  },
  {
   "cell_type": "code",
   "execution_count": null,
   "metadata": {},
   "outputs": [],
   "source": []
  }
 ],
 "metadata": {
  "kernelspec": {
   "display_name": "Python 3.10 (my_env)",
   "language": "python",
   "name": "my_env"
  },
  "language_info": {
   "codemirror_mode": {
    "name": "ipython",
    "version": 3
   },
   "file_extension": ".py",
   "mimetype": "text/x-python",
   "name": "python",
   "nbconvert_exporter": "python",
   "pygments_lexer": "ipython3",
   "version": "3.10.16"
  }
 },
 "nbformat": 4,
 "nbformat_minor": 4
}
