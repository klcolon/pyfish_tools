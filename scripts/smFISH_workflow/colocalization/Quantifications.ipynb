{
 "cells": [
  {
   "cell_type": "code",
   "execution_count": null,
   "id": "03e9d817-063b-4563-ba6c-7bf3ce05199d",
   "metadata": {},
   "outputs": [],
   "source": [
    "from colocalization import *"
   ]
  },
  {
   "cell_type": "code",
   "execution_count": null,
   "id": "799920af-3b2a-4f26-87e9-8f896698f377",
   "metadata": {},
   "outputs": [],
   "source": [
    "#read in spot locations\n",
    "channel1 = pd.read_csv(\"/path/to/dots\")\n",
    "\n",
    "#example\n",
    "#find colocalizing dots across all hybs using one hyb as reference\n",
    "filtered_neigh, filtered_dist = colocalizing_dots_within(channel1, ref_hyb=1, radius=2, neighbors_expected=6)"
   ]
  },
  {
   "cell_type": "code",
   "execution_count": null,
   "id": "f0cc16bf-9731-444a-9dd2-f62a311f3a52",
   "metadata": {},
   "outputs": [],
   "source": [
    "channel1 = pd.concat(\"/path/to/dots\")\n",
    "channel2 = pd.concat(\"/path/to/dots\")\n",
    "new_df = pd.concat([channel1, channel2]).reset_index(drop=True)\n",
    "#example\n",
    "# find colocalizing dots across channels in a given hyb\n",
    "df_sm, eff = colocalizing_dots_across_channels(new_df, ref_hyb=1, channel1=1, channel2=2, radius=2, neighbors_expected=2, cutoff=0.02)"
   ]
  }
 ],
 "metadata": {
  "kernelspec": {
   "display_name": "Python 3.10 (my_env)",
   "language": "python",
   "name": "my_env"
  },
  "language_info": {
   "codemirror_mode": {
    "name": "ipython",
    "version": 3
   },
   "file_extension": ".py",
   "mimetype": "text/x-python",
   "name": "python",
   "nbconvert_exporter": "python",
   "pygments_lexer": "ipython3",
   "version": "3.10.16"
  }
 },
 "nbformat": 4,
 "nbformat_minor": 5
}
