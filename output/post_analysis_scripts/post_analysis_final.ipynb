{
 "cells": [
  {
   "cell_type": "code",
   "execution_count": null,
   "metadata": {},
   "outputs": [],
   "source": [
    "#general packages\n",
    "import pandas as pd\n",
    "import numpy as np\n",
    "from collections import Counter\n",
    "import tifffile as tf\n",
    "from skimage.measure import regionprops\n",
    "#plotting packages\n",
    "import matplotlib.pyplot as plt\n",
    "import seaborn as sns\n",
    "#custom function\n",
    "from post_analysis import *\n",
    "%config InlineBackend.figure_format='retina'"
   ]
  },
  {
   "cell_type": "code",
   "execution_count": null,
   "metadata": {},
   "outputs": [],
   "source": [
    "#for across channel\n",
    "mtx = pd.read_csv(\"/groups/CaiLab/personal/Lex/raw/250113_mb_BSpeg_xtra_potentialTriton/pyfish_tools/output/genebycell/final_1.01.41.4_seed33_heg_svm_p20.0_diff0_fdr5.0/genebycell_1.csv\", index_col=0)"
   ]
  },
  {
   "cell_type": "code",
   "execution_count": null,
   "metadata": {},
   "outputs": [],
   "source": [
    "#take a look\n",
    "mtx"
   ]
  },
  {
   "cell_type": "code",
   "execution_count": null,
   "metadata": {},
   "outputs": [],
   "source": [
    "#codebook\n",
    "codebook = pd.read_csv(f\"/groups/CaiLab/personal/Lex/raw/250113_mb_BSpeg_xtra_potentialTriton/barcode_key/codebook_string_488.csv\", index_col=0)\n",
    "#separate into true and false codebook\n",
    "fakebook = codebook[codebook.index.str.startswith(\"fake\")]\n",
    "codebook = codebook.drop(fakebook.index)"
   ]
  },
  {
   "cell_type": "code",
   "execution_count": null,
   "metadata": {
    "scrolled": true
   },
   "outputs": [],
   "source": [
    "#calculate fdr\n",
    "fp, fake = percent_false_positive(mtx, codebook, fakebook)\n",
    "percent_fp = fp[\"FP raw\"].mean()\n",
    "mean_counts = fp[\"total_real\"].mean()\n",
    "sum_counts = fp[\"total_counts\"].sum()\n",
    "norm_fpr = fp[\"FDR\"].mean()\n",
    "fp_list = [percent_fp,norm_fpr,mean_counts,sum_counts]"
   ]
  },
  {
   "cell_type": "code",
   "execution_count": null,
   "metadata": {},
   "outputs": [],
   "source": [
    "#take a look at fdr results\n",
    "df_stats = pd.DataFrame(fp_list).T\n",
    "df_stats.columns = [\"percent fp\",\"false positive rate\",\"mean true counts\", \"total sum\"]\n",
    "df_stats"
   ]
  },
  {
   "cell_type": "markdown",
   "metadata": {},
   "source": [
    "# Efficiency and correlations (if applicable)"
   ]
  },
  {
   "cell_type": "code",
   "execution_count": null,
   "metadata": {},
   "outputs": [],
   "source": [
    "#read in rnaseq data\n",
    "rnaseq = pd.read_csv(\"/groups/CaiLab/personal/Lex/raw/250113_mb_BSpeg_xtra_potentialTriton/mouse_brain_extra/kallisto_mousebrain.csv\")\n",
    "rnaseq.columns = [\"Genes\",\"TPM\"]"
   ]
  },
  {
   "cell_type": "code",
   "execution_count": null,
   "metadata": {},
   "outputs": [],
   "source": [
    "#convert data to pseudobulk rnaseq data\n",
    "bulk = pd.DataFrame(mtx.mean(axis=1)).reset_index()\n",
    "bulk.columns = [\"Genes\", \"Counts\"]\n",
    "bulk[\"Genes\"] = bulk[\"Genes\"].str.lower()\n",
    "rnaseq[\"Genes\"] = rnaseq[\"Genes\"].str.lower()\n",
    "#merge\n",
    "comb_1 = pd.merge(rnaseq,bulk)\n",
    "#pearson's correlation\n",
    "r = pearsonr(comb_1[\"TPM\"],comb_1[\"Counts\"])\n",
    "r = round(r[0],2)"
   ]
  },
  {
   "cell_type": "code",
   "execution_count": null,
   "metadata": {},
   "outputs": [],
   "source": [
    "#get log2 + 1\n",
    "comb_1[\"Log Counts\"] = np.log10(comb_1[\"Counts\"]+0.1)\n",
    "comb_1[\"Log TPM\"] = np.log10(comb_1[\"TPM\"]+0.1)"
   ]
  },
  {
   "cell_type": "code",
   "execution_count": null,
   "metadata": {},
   "outputs": [],
   "source": [
    "import seaborn as sns\n",
    "import matplotlib.pyplot as plt\n",
    "import numpy as np\n",
    "from scipy.stats import gaussian_kde\n",
    "from matplotlib import ticker\n",
    "from matplotlib.font_manager import FontProperties\n",
    "\n",
    "# Set the style\n",
    "sns.set_style(\"white\")\n",
    "\n",
    "# Calculate point density\n",
    "xy = np.vstack([comb_1[\"Log TPM\"], comb_1[\"Log Counts\"]])\n",
    "z = gaussian_kde(xy)(xy)  # Compute the density for each point\n",
    "\n",
    "# Sort the points by density, so that the densest points are plotted last\n",
    "idx = z.argsort()\n",
    "x, y, z = comb_1[\"Log TPM\"][idx], comb_1[\"Log Counts\"][idx], z[idx]\n",
    "\n",
    "# Determine the limits with padding\n",
    "x_min, x_max = x.min(), x.max()\n",
    "y_min, y_max = y.min(), y.max()\n",
    "\n",
    "# Add padding (e.g., 10% of the range)\n",
    "padding = 0.1 * max(x_max - x_min, y_max - y_min)\n",
    "x_lim = (x_min - padding, x_max + padding)\n",
    "y_lim = (y_min - padding, y_max + padding)\n",
    "\n",
    "# Create the scatter plot with density as color\n",
    "plt.figure(figsize=(8, 6))\n",
    "scatter = plt.scatter(x.values, y.values, c=z, s=50, edgecolor='k', alpha=0.7)\n",
    "\n",
    "# Add color bar for density\n",
    "cbar = plt.colorbar(scatter)\n",
    "cbar.set_label('Density', fontweight='bold', fontsize=16)\n",
    "\n",
    "# Create FontProperties object for bold font\n",
    "bold_font = FontProperties(weight='bold', size=12)\n",
    "\n",
    "# Apply bold font to color bar ticks\n",
    "cbar.ax.yaxis.set_tick_params(labelsize=12)\n",
    "for label in cbar.ax.get_yticklabels():\n",
    "    label.set_fontproperties(bold_font)\n",
    "\n",
    "# Labels and title\n",
    "plt.xlabel(\"Bulk RNAseq Log2(TPM+0.1)\", fontsize=16, fontweight='bold')\n",
    "plt.ylabel(\"Pseudobulk Log2(Counts+0.1)\", fontsize=16, fontweight='bold')\n",
    "\n",
    "# Set axis ticks to bold\n",
    "plt.xticks(fontsize=12, fontweight='bold')\n",
    "plt.yticks(fontsize=12, fontweight='bold')\n",
    "\n",
    "# Set axis limits with padding\n",
    "plt.xlim(x_lim)\n",
    "plt.ylim(y_lim)\n",
    "\n",
    "# Draw lines at x=0 and y=0\n",
    "plt.axhline(0, color='black', linewidth=1.5, linestyle='--', alpha = 0.5)\n",
    "plt.axvline(0, color='black', linewidth=1.5, linestyle='--', alpha = 0.5)\n",
    "\n",
    "# Annotate in the top-left corner with bold font\n",
    "plt.annotate(\n",
    "    f\"Pearson's r= {r}\",\n",
    "    xy=(x_lim[0], y_lim[1]),\n",
    "    xytext=(5, -5),\n",
    "    textcoords='offset points',\n",
    "    fontsize=16,\n",
    "    fontweight='bold',\n",
    "    ha='left',\n",
    "    va='top'\n",
    ")\n",
    "\n",
    "# Remove the spines for a cleaner look\n",
    "sns.despine()\n",
    "\n",
    "plt.savefig(\"RNAseq_vs_smfish.svg\", format=\"svg\")\n",
    "\n",
    "# Show the plot\n",
    "plt.show()"
   ]
  },
  {
   "cell_type": "code",
   "execution_count": null,
   "metadata": {},
   "outputs": [],
   "source": [
    "#read in other reference files\n",
    "mtx_den1 = pd.read_csv(\"/path/to/den/mtx1\", index_col=0)\n",
    "mtx_den2 = pd.read_csv(\"/path/to/den/mtx2\", index_col=0)"
   ]
  },
  {
   "cell_type": "code",
   "execution_count": null,
   "metadata": {},
   "outputs": [],
   "source": [
    "correlation(mtx_den1,mtx_den2, label_x=\"\", label_y=\"\",\n",
    "            title=\"\", return_comb_df=False)"
   ]
  }
 ],
 "metadata": {
  "kernelspec": {
   "display_name": "Python3.7",
   "language": "python",
   "name": "python3.7"
  },
  "language_info": {
   "codemirror_mode": {
    "name": "ipython",
    "version": 3
   },
   "file_extension": ".py",
   "mimetype": "text/x-python",
   "name": "python",
   "nbconvert_exporter": "python",
   "pygments_lexer": "ipython3",
   "version": "3.7.0"
  }
 },
 "nbformat": 4,
 "nbformat_minor": 4
}
