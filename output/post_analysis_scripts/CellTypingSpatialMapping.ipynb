{
 "cells": [
  {
   "cell_type": "markdown",
   "id": "faa42503-a5d5-4c90-ada4-186a9ebeeeb3",
   "metadata": {},
   "source": [
    "# Clustering"
   ]
  },
  {
   "cell_type": "code",
   "execution_count": null,
   "id": "b3205635-dc6d-4c68-93fb-5e0902740a0f",
   "metadata": {},
   "outputs": [],
   "source": [
    "#general packages\n",
    "import pandas as pd\n",
    "import numpy as np\n",
    "import scanpy as sc\n",
    "import matplotlib.pyplot as plt\n",
    "%config InlineBackend.figure_format='retina'\n",
    "\n",
    "import warnings\n",
    "# Suppress all warnings\n",
    "warnings.filterwarnings(\"ignore\")"
   ]
  },
  {
   "cell_type": "code",
   "execution_count": null,
   "id": "322ef4ca-9f70-461a-86d7-cbad83685858",
   "metadata": {},
   "outputs": [],
   "source": [
    "# Read in data\n",
    "data = pd.read_csv(\"/groups/CaiLab/personal/Lex/raw/250113_mb_BSpeg_xtra_potentialTriton/pyfish_tools/output/genebycell/final_1.01.41.4_seed33_heg_svm_p20.0_diff0_fdr5.0/genebycell_1.csv\", index_col=0)\n",
    "#remove rows that doesn't correspond to a gene\n",
    "data = data[~data.index.str.contains(\"fake\")]"
   ]
  },
  {
   "cell_type": "code",
   "execution_count": null,
   "id": "a81564d9-1a36-4329-a498-382c5f3ae50b",
   "metadata": {},
   "outputs": [],
   "source": [
    "# Convert to AnnData object\n",
    "adata = sc.AnnData(data.T)\n",
    "#make sure cells are obs and genes are vars\n",
    "adata"
   ]
  },
  {
   "cell_type": "code",
   "execution_count": null,
   "id": "ede96071-60e4-4495-ae68-c36f839d3324",
   "metadata": {},
   "outputs": [],
   "source": [
    "# Filter genes that are expressed in fewer than 1 cells\n",
    "sc.pp.filter_genes(adata, min_cells=1)\n",
    "# Filter cells that have fewer than n genes expressed\n",
    "sc.pp.filter_cells(adata, min_genes=0)\n",
    "# CPM normalization\n",
    "sc.pp.normalize_total(adata, target_sum=1e6)\n",
    "# Log-transform the data\n",
    "sc.pp.log1p(adata)  \n",
    "# Use N number of top genes (all since they are all marker genes)\n",
    "sc.pp.highly_variable_genes(adata, n_top_genes=adata.n_vars, subset=True)\n",
    "# Z-score normalize and clip any value beyond 10 sigmas\n",
    "sc.pp.scale(adata, max_value=10)\n",
    "# Perform PCA to reduce dimensions and keep using arpack for consistent solutions\n",
    "sc.tl.pca(adata, svd_solver='arpack', n_comps=adata.n_vars-1)"
   ]
  },
  {
   "cell_type": "code",
   "execution_count": null,
   "id": "f30ba4c6-b4cd-49fa-b341-8b7b2dad5b30",
   "metadata": {},
   "outputs": [],
   "source": [
    "# Get the explained variance ratio\n",
    "explained_variance_ratio = adata.uns['pca']['variance_ratio']\n",
    "# Calculate the cumulative sum of explained variance ratio\n",
    "cumulative_variance_ratio = np.cumsum(explained_variance_ratio)\n",
    "# Find the number of components that account for 90% of the variance\n",
    "num_pcs_90 = np.argmax(cumulative_variance_ratio >= 0.90) + 1  # Add 1 because indices start at 0\n",
    "print(f\"Number of principal components that account for 90% of the variance: {num_pcs_90}\")"
   ]
  },
  {
   "cell_type": "code",
   "execution_count": null,
   "id": "36f50c82-6227-4bc5-9603-a1aba9c4958d",
   "metadata": {},
   "outputs": [],
   "source": [
    "plt.figure(figsize=(8, 5))\n",
    "plt.bar(range(1, len(explained_variance_ratio) + 1), explained_variance_ratio, alpha=0.9, color='#A7C7E7', lw=2)\n",
    "plt.xlabel('Principal Component', size = 14)\n",
    "plt.ylabel('Explained Variance Ratio', size = 14)\n",
    "plt.title('')\n",
    "# Customize the plot (adding black box edges)\n",
    "plt.gca().spines['top'].set_color('black')\n",
    "plt.gca().spines['bottom'].set_color('black')\n",
    "plt.gca().spines['left'].set_color('black')\n",
    "plt.gca().spines['right'].set_color('black')\n",
    "# You can also set the thickness of the edges (optional)\n",
    "plt.gca().spines['top'].set_linewidth(1.5)\n",
    "plt.gca().spines['bottom'].set_linewidth(1.5)\n",
    "plt.gca().spines['left'].set_linewidth(1.5)\n",
    "plt.gca().spines['right'].set_linewidth(1.5)\n",
    "plt.axvline(num_pcs_90, ls = \"--\", color = \"k\")\n",
    "# Save the plot as an SVG file\n",
    "#plt.savefig('Variance_Ratio_Plot.svg', format='svg')\n",
    "plt.show()"
   ]
  },
  {
   "cell_type": "code",
   "execution_count": null,
   "id": "96e276d9-6e30-4c19-9bed-77a448d7f4d3",
   "metadata": {},
   "outputs": [],
   "source": [
    "# Generate neighborhood graph. Use only top PCs that gives >90% of variance\n",
    "sc.pp.neighbors(adata, n_neighbors=50, n_pcs=num_pcs_90)\n",
    "# Perform UMAP on neighborhood graph\n",
    "sc.tl.umap(adata, min_dist=0.1, spread=3, random_state=42)\n",
    "# Perform community based clustering using leiden on neighborhood graph\n",
    "sc.tl.leiden(adata, resolution=1) "
   ]
  },
  {
   "cell_type": "code",
   "execution_count": null,
   "id": "c6cd9df2-79af-42f1-be12-91b4bbc7cc53",
   "metadata": {},
   "outputs": [],
   "source": [
    "import scanpy as sc\n",
    "import matplotlib.pyplot as plt\n",
    "import seaborn as sns\n",
    "\n",
    "# Automatically adjust palette size based on clusters\n",
    "num_clusters = adata.obs['leiden'].nunique()\n",
    "custom_palette = sns.color_palette(\"tab20\", num_clusters)\n",
    "\n",
    "# Plot UMAP with updated palette\n",
    "sc.pl.umap(\n",
    "    adata, \n",
    "    color=[\"leiden\"], \n",
    "    palette=custom_palette,\n",
    "    title=\"\",\n",
    "    edgecolor='black',  \n",
    "    linewidth=0.2,  # Add edge around the dots\n",
    "    frameon=False,  \n",
    "    show=False  \n",
    ")\n",
    "\n",
    "ax = plt.gca()\n",
    "handles, labels = ax.get_legend_handles_labels()\n",
    "\n",
    "for handle in handles:\n",
    "    handle.set_edgecolor('black')\n",
    "    handle.set_linewidth(0.5)\n",
    "\n",
    "plt.tight_layout()  # Prevents overlapping of plot and legend\n",
    "plt.show()\n"
   ]
  },
  {
   "cell_type": "markdown",
   "id": "012903e7-e06a-4043-8bf4-3d52610017c1",
   "metadata": {},
   "source": [
    "# Cell typing"
   ]
  },
  {
   "cell_type": "code",
   "execution_count": null,
   "id": "beeca5c9-6bc1-40c5-953c-39013d836548",
   "metadata": {},
   "outputs": [],
   "source": [
    "#load annotations data\n",
    "annotations = pd.read_csv(\"/groups/CaiLab/personal/Lex/raw/250113_mb_BSpeg_xtra_potentialTriton/mouse_brain_extra/Xenium_mBrain_v1.1_metadata.csv\")"
   ]
  },
  {
   "cell_type": "code",
   "execution_count": null,
   "id": "3b8e5320-16ed-4139-b654-299cbde8e185",
   "metadata": {},
   "outputs": [],
   "source": [
    "# Create a boolean mask where \"Annotation\" contains \"L2\"\n",
    "mask = annotations[\"Annotation\"].str.contains(\"L2 \", case=False, na=False)\n",
    "\n",
    "# Assign \"L2\" to the \"Annotation\" column for these rows\n",
    "annotations.loc[mask, \"Annotation\"] = \"L2\"\n",
    "\n",
    "# Create a boolean mask where \"Annotation\" contains \"L2\"\n",
    "mask = annotations[\"Annotation\"].str.contains(\"L3 \", case=False, na=False)\n",
    "\n",
    "# Assign \"L2\" to the \"Annotation\" column for these rows\n",
    "annotations.loc[mask, \"Annotation\"] = \"L3\"\n",
    "\n",
    "# Create a boolean mask where \"Annotation\" contains \"L2\"\n",
    "mask = annotations[\"Annotation\"].str.contains(\"L4 \", case=False, na=False)\n",
    "\n",
    "# Assign \"L2\" to the \"Annotation\" column for these rows\n",
    "annotations.loc[mask, \"Annotation\"] = \"L4 \"\n",
    "\n",
    "# Create a boolean mask where \"Annotation\" contains \"L2\"\n",
    "mask = annotations[\"Annotation\"].str.contains(\"L5 \", case=False, na=False)\n",
    "\n",
    "# Assign \"L2\" to the \"Annotation\" column for these rows\n",
    "annotations.loc[mask, \"Annotation\"] = \"L5\"\n",
    "\n",
    "# Create a boolean mask where \"Annotation\" contains \"L2\"\n",
    "mask = annotations[\"Annotation\"].str.contains(\"L6 \", case=False, na=False)\n",
    "\n",
    "# Assign \"L2\" to the \"Annotation\" column for these rows\n",
    "annotations.loc[mask, \"Annotation\"] = \"L6\""
   ]
  },
  {
   "cell_type": "code",
   "execution_count": null,
   "id": "0d68cf87-7536-42e8-a860-6bb79e9e80fb",
   "metadata": {},
   "outputs": [],
   "source": [
    "annotations.Annotation.unique()"
   ]
  },
  {
   "cell_type": "code",
   "execution_count": null,
   "id": "ec274621-7a41-4f42-8eab-f99708aef53b",
   "metadata": {},
   "outputs": [],
   "source": [
    "# Perform differential expression across clusters\n",
    "sc.tl.rank_genes_groups(adata, 'leiden', method='wilcoxon') "
   ]
  },
  {
   "cell_type": "code",
   "execution_count": null,
   "id": "49f3aa66-c50b-48ad-b31b-661e4e4f59f0",
   "metadata": {},
   "outputs": [],
   "source": [
    "#look at dot plot for top 3 genes per cluster\n",
    "sc.pl.rank_genes_groups_dotplot(\n",
    "    adata, groupby=\"leiden\", standard_scale=\"var\", n_genes=3\n",
    ")"
   ]
  },
  {
   "cell_type": "code",
   "execution_count": null,
   "id": "fecae3e3-3bff-455b-84c7-c7f5860049b4",
   "metadata": {},
   "outputs": [],
   "source": [
    "# Extract the results into a DataFrame\n",
    "marker_genes = sc.get.rank_genes_groups_df(adata, group=None)"
   ]
  },
  {
   "cell_type": "code",
   "execution_count": null,
   "id": "47fab8f8-c932-4a01-90d1-56d85c3c1a85",
   "metadata": {},
   "outputs": [],
   "source": [
    "# Get unique marker genes\n",
    "unique_marker_genes = marker_genes['names'].unique()\n",
    "\n",
    "# Filter your annotation DataFrame for these marker genes\n",
    "annotated_markers = annotations[annotations['Genes'].isin(unique_marker_genes)]"
   ]
  },
  {
   "cell_type": "code",
   "execution_count": null,
   "id": "eb7271d5-9978-4366-a6b1-3616465f2349",
   "metadata": {},
   "outputs": [],
   "source": [
    "# Get list of clusters\n",
    "clusters = adata.obs['leiden'].unique()\n",
    "\n",
    "# Initialize dictionary\n",
    "cluster_markers = {}\n",
    "\n",
    "for cluster in clusters:\n",
    "    # Extract marker genes for the cluster\n",
    "    markers_df = marker_genes[marker_genes['group'] == cluster]\n",
    "    # Select top N marker genes (e.g., top 10)\n",
    "    top_markers = markers_df.head(5)['names'].tolist()\n",
    "    cluster_markers[cluster] = top_markers\n",
    "\n",
    "# Example output\n",
    "for cluster, genes in cluster_markers.items():\n",
    "    print(f\"Cluster {cluster}: {genes}\")"
   ]
  },
  {
   "cell_type": "code",
   "execution_count": null,
   "id": "445d9914-6408-40f0-80da-dabbcbe9a156",
   "metadata": {},
   "outputs": [],
   "source": [
    "# Create a dictionary mapping genes to cell types\n",
    "gene_to_celltype = annotations.set_index('Genes')['Annotation'].to_dict()\n",
    "\n",
    "# Inspect the mapping\n",
    "print(list(gene_to_celltype.items())[:10])"
   ]
  },
  {
   "cell_type": "code",
   "execution_count": null,
   "id": "67f6e173-0483-443c-96a5-a7a8383269b5",
   "metadata": {},
   "outputs": [],
   "source": [
    "# Get the list of unique cell types\n",
    "cell_types = annotations['Annotation'].unique()\n",
    "\n",
    "# Initialize a DataFrame with clusters as rows and cell types as columns\n",
    "summary_df = pd.DataFrame(0, index=clusters, columns=cell_types)"
   ]
  },
  {
   "cell_type": "code",
   "execution_count": null,
   "id": "123ecf61-9be7-416c-a269-056be7a27a8e",
   "metadata": {},
   "outputs": [],
   "source": [
    "for cluster, genes in cluster_markers.items():\n",
    "    for gene in genes:\n",
    "        # Check if the gene is in the mapping\n",
    "        if gene in gene_to_celltype:\n",
    "            cell_type = gene_to_celltype[gene]\n",
    "            # If a gene maps to multiple cell types, split and iterate\n",
    "            if isinstance(cell_type, str) and ',' in cell_type:\n",
    "                cell_type_list = [ct.strip() for ct in cell_type.split(',')]\n",
    "            elif isinstance(cell_type, list):\n",
    "                cell_type_list = cell_type\n",
    "            else:\n",
    "                cell_type_list = [cell_type]\n",
    "            \n",
    "            for ct in cell_type_list:\n",
    "                summary_df.at[cluster, ct] += 1"
   ]
  },
  {
   "cell_type": "code",
   "execution_count": null,
   "id": "83e09a2e-cc3c-4d29-8222-88b0f6e9a677",
   "metadata": {},
   "outputs": [],
   "source": [
    "# Initialize a dictionary to store cluster annotations\n",
    "cluster_annotations = {}\n",
    "\n",
    "for cluster in summary_df.index:\n",
    "    cluster_counts = summary_df.loc[cluster]\n",
    "    \n",
    "    # Find the maximum count\n",
    "    max_count = cluster_counts.max()\n",
    "    \n",
    "    if max_count >= 2:\n",
    "        # Get all cell types with the maximum count\n",
    "        top_cell_types = cluster_counts[cluster_counts == max_count].index.tolist()\n",
    "        # Assign the first cell type (you can modify this if needed)\n",
    "        cluster_annotations[cluster] = '/'.join(top_cell_types)\n",
    "    elif max_count == 1:\n",
    "        # Find cell types with count of 1\n",
    "        single_counts = cluster_counts[cluster_counts == 1]\n",
    "        if len(single_counts) == 1:\n",
    "            # Assign the single cell type with count 1\n",
    "            cluster_annotations[cluster] = single_counts.idxmax()\n",
    "        else:\n",
    "            # Multiple cell types with count 1\n",
    "            cluster_annotations[cluster] = 'Unknown'\n",
    "    else:\n",
    "        # No valid counts\n",
    "        cluster_annotations[cluster] = 'Unknown'"
   ]
  },
  {
   "cell_type": "code",
   "execution_count": null,
   "id": "15a9bd7f-219b-4fd1-b947-572c6d6df4f7",
   "metadata": {},
   "outputs": [],
   "source": [
    "# Create a mapping Series\n",
    "cluster_to_celltype = pd.Series(cluster_annotations, name='cell_type')\n",
    "\n",
    "# Map the annotations to cells based on their cluster\n",
    "adata.obs['cell_type'] = adata.obs['leiden'].map(cluster_to_celltype)\n",
    "\n",
    "# Verify the mapping\n",
    "print(adata.obs[['leiden', 'cell_type']].head())"
   ]
  },
  {
   "cell_type": "code",
   "execution_count": null,
   "id": "6882cb8d-7421-4bfc-afb6-7cc47ba143ba",
   "metadata": {},
   "outputs": [],
   "source": [
    "# Automatically adjust palette size based on clusters\n",
    "num_clusters = adata.obs['leiden'].nunique()\n",
    "custom_palette = sns.color_palette(\"tab20\", num_clusters)\n",
    "\n",
    "fig, ax = plt.subplots(figsize=(5, 5))  # Adjust figure size as needed\n",
    "\n",
    "# Plot UMAP on the specified axes\n",
    "sc.pl.umap(\n",
    "    adata,\n",
    "    color='leiden',\n",
    "    palette=custom_palette,  # or category_colors if supported\n",
    "    title='',\n",
    "    legend_fontsize=8,\n",
    "    legend_fontoutline=0.5,\n",
    "    edgecolor='black',\n",
    "    linewidth=0.2,\n",
    "    show=False,\n",
    "    ax=ax  # Specify the axes to plot on\n",
    ")\n",
    "\n",
    "handles, labels = ax.get_legend_handles_labels()\n",
    "\n",
    "for handle in handles:\n",
    "    handle.set_edgecolor('black')\n",
    "    handle.set_linewidth(0.5)\n",
    "\n",
    "sns.despine()\n",
    "plt.tight_layout()\n",
    "\n",
    "for handle in handles:\n",
    "    handle.set_edgecolor('black')\n",
    "    handle.set_linewidth(0.5)\n",
    "\n",
    "plt.show()\n"
   ]
  },
  {
   "cell_type": "code",
   "execution_count": null,
   "id": "5a127e0f-7c62-487d-a2d6-8358e1ecdbac",
   "metadata": {},
   "outputs": [],
   "source": [
    "# Generate a custom palette with a size matching the unique cell types\n",
    "num_cell_types = adata.obs['cell_type'].nunique()\n",
    "custom_palette = sns.color_palette(\"tab20\", num_cell_types)\n",
    "\n",
    "# Create a dictionary to explicitly map each category to a color\n",
    "category_colors = dict(zip(adata.obs['cell_type'].cat.categories, custom_palette))\n",
    "\n",
    "fig, ax = plt.subplots(figsize=(6, 6))  # Adjust figure size as needed\n",
    "\n",
    "# Plot UMAP on the specified axes\n",
    "sc.pl.umap(\n",
    "    adata,\n",
    "    color='cell_type',\n",
    "    palette=custom_palette,  # or category_colors if supported\n",
    "    title='',\n",
    "    legend_fontsize=8,\n",
    "    legend_fontoutline=0.5,\n",
    "    edgecolor='black',\n",
    "    linewidth=0.2,\n",
    "    show=False,\n",
    "    ax=ax  # Specify the axes to plot on\n",
    ")\n",
    "\n",
    "handles, labels = ax.get_legend_handles_labels()\n",
    "\n",
    "for handle in handles:\n",
    "    handle.set_edgecolor('black')\n",
    "    handle.set_linewidth(0.5)\n",
    "\n",
    "sns.despine()\n",
    "plt.tight_layout()\n",
    "#plt.tight_layout()  # Prevents overlapping of plot and legend\n",
    "# Save as SVG\n",
    "output_svg_file = \"umap_cell_types.svg\"\n",
    "plt.savefig(output_svg_file, format=\"svg\", dpi=300)  # Specify format and resolution\n",
    "plt.show()"
   ]
  },
  {
   "cell_type": "code",
   "execution_count": null,
   "id": "8969bef5-6aac-46ca-a419-87f8f825da88",
   "metadata": {},
   "outputs": [],
   "source": [
    "import seaborn as sns\n",
    "import matplotlib.pyplot as plt\n",
    "\n",
    "# Plot a heatmap\n",
    "plt.figure(figsize=(12, 8))\n",
    "sns.heatmap(summary_df, annot=True, fmt=\"d\", cmap=\"YlGnBu\")\n",
    "plt.title('Marker Gene Overlap with Cell Types per Cluster')\n",
    "plt.xlabel('Cell Types')\n",
    "plt.ylabel('Clusters')\n",
    "plt.show()"
   ]
  },
  {
   "cell_type": "markdown",
   "id": "12462bc0-da69-4f56-8880-de07192778a7",
   "metadata": {},
   "source": [
    "# Spatial Map"
   ]
  },
  {
   "cell_type": "code",
   "execution_count": null,
   "id": "2bf0d432-d52b-42fc-addb-54539e6b9a1b",
   "metadata": {},
   "outputs": [],
   "source": [
    "import tifffile as tf\n",
    "\n",
    "#path\n",
    "mask_path = \"/groups/CaiLab/personal/Lex/raw/250113_mb_BSpeg_xtra_potentialTriton/pyfish_tools/output/edges_deleted/MMStack_Pos5_z0.tif\"\n",
    "#read mask\n",
    "mask = tf.imread(mask_path)\n",
    "# Extract Pos information from filename (assuming consistent naming)\n",
    "pos = int(mask_path.split(\"Pos\")[1].split(\"_\")[0]) \n",
    "\n",
    "#make copy\n",
    "mask_copy = mask.copy().astype(np.int16)\n",
    "#grab leiden labels\n",
    "labels = pd.DataFrame(adata.obs[\"cell_type\"])"
   ]
  },
  {
   "cell_type": "code",
   "execution_count": null,
   "id": "f76bc81e-5875-4ba2-baac-2ab01b03ccab",
   "metadata": {},
   "outputs": [],
   "source": [
    "plt.imshow(mask)\n",
    "plt.show()"
   ]
  },
  {
   "cell_type": "code",
   "execution_count": null,
   "id": "c1380592-79a0-4424-90b7-997bc6c6a2c1",
   "metadata": {},
   "outputs": [],
   "source": [
    "# Parse cell_id and Pos from the index\n",
    "labels.reset_index(inplace=True)\n",
    "labels[['cell_id', 'pos']] = labels['index'].str.extract(r'Cell(\\d+)\\.0_Pos_(\\d+)', expand=True).astype(int)\n",
    "labels = labels[['cell_id', 'pos', 'cell_type']]\n",
    "\n",
    "# Filter labels for the current Pos\n",
    "labels = labels[labels['pos'] == pos]\n",
    "\n",
    "#make cell type dictionary\n",
    "celltype_def = dict(zip(labels['cell_id'], labels['cell_type']))"
   ]
  },
  {
   "cell_type": "code",
   "execution_count": null,
   "id": "ad557b2c-a137-4bec-91c2-255a645e75c6",
   "metadata": {},
   "outputs": [],
   "source": [
    "labels"
   ]
  },
  {
   "cell_type": "code",
   "execution_count": null,
   "id": "183bd769-46b6-4970-921e-d633bf0732b4",
   "metadata": {},
   "outputs": [],
   "source": [
    "import numpy as np\n",
    "import seaborn as sns\n",
    "import matplotlib.pyplot as plt\n",
    "import matplotlib.colors as mcolors\n",
    "\n",
    "# Define a label for the background, if it exists, e.g., 0 for background\n",
    "background_label = 0\n",
    "\n",
    "# Extract unique cluster IDs from the mask, excluding the background label\n",
    "unique_clusters = np.unique(mask_copy)\n",
    "unique_clusters = unique_clusters[unique_clusters != background_label]  # Remove background label from clusters\n",
    "\n",
    "# Initialize the mask_colored with a black background\n",
    "mask_colored = np.zeros((*mask_copy.shape, 3), dtype=float)  # Create an RGB array filled with zeros (black background)\n",
    "\n",
    "# Apply the color map to the mask\n",
    "for cluster_id in unique_clusters:\n",
    "    if cluster_id in celltype_def:\n",
    "        celltype = celltype_def[int(cluster_id)]\n",
    "        mask_colored[mask_copy == cluster_id] = category_colors[celltype]\n",
    "    else:\n",
    "        # Assign black color to clusters not in celltype_def\n",
    "        mask_colored[mask_copy == cluster_id] = [0, 0, 0]\n",
    "\n",
    "# Display the mask with the black background and colored clusters\n",
    "plt.figure(figsize=(10, 10))\n",
    "plt.imshow(mask_colored)\n",
    "plt.axis('off')  # Hide the axes\n",
    "#plt.savefig(\"projected_labels_on_masks.svg\", bbox_inches='tight', pad_inches=0)\n",
    "plt.show()"
   ]
  },
  {
   "cell_type": "code",
   "execution_count": null,
   "id": "11bf2955-94e5-42de-b1dc-b92b7561f7f5",
   "metadata": {},
   "outputs": [],
   "source": [
    "## Do for all\n",
    "from pathlib import Path\n",
    "output_dir  = Path(\"/groups/CaiLab/personal/Lex/raw/250113_mb_BSpeg_xtra_potentialTriton/pyfish_tools/output/spatial_mapped_masks\")\n",
    "output_dir.mkdir(parents=True, exist_ok=True)\n",
    "\n",
    "\n",
    "for pos in range(87):\n",
    "    try:\n",
    "        mask_path = f\"/groups/CaiLab/personal/Lex/raw/250113_mb_BSpeg_xtra_potentialTriton/pyfish_tools/output/edges_deleted/MMStack_Pos{pos}_z0.tif\"\n",
    "        #read mask\n",
    "        mask = tf.imread(mask_path)\n",
    "        # Extract Pos information from filename (assuming consistent naming)\n",
    "        pos = int(mask_path.split(\"Pos\")[1].split(\"_\")[0]) \n",
    "        \n",
    "        #make copy\n",
    "        mask_copy = mask.copy().astype(np.int16)\n",
    "        #grab leiden labels\n",
    "        labels = pd.DataFrame(adata.obs[\"cell_type\"])\n",
    "    \n",
    "        # Parse cell_id and Pos from the index\n",
    "        labels.reset_index(inplace=True)\n",
    "        labels[['cell_id', 'pos']] = labels['index'].str.extract(r'Cell(\\d+)\\.0_Pos_(\\d+)', expand=True).astype(int)\n",
    "        labels = labels[['cell_id', 'pos', 'cell_type']]\n",
    "        \n",
    "        # Filter labels for the current Pos\n",
    "        labels = labels[labels['pos'] == pos]\n",
    "       \n",
    "        #make cell type dictionary\n",
    "        celltype_def = dict(zip(labels['cell_id'], labels['cell_type']))\n",
    "    \n",
    "        # Define a label for the background, if it exists, e.g., 0 for background\n",
    "        background_label = 0\n",
    "        \n",
    "        # Extract unique cluster IDs from the mask, excluding the background label\n",
    "        unique_clusters = np.unique(mask_copy)\n",
    "        unique_clusters = unique_clusters[unique_clusters != background_label]  # Remove background label from clusters\n",
    "        \n",
    "        # Initialize the mask_colored with a black background\n",
    "        mask_colored = np.zeros((*mask_copy.shape, 3), dtype=float)  # Create an RGB array filled with zeros (black background)\n",
    "        \n",
    "        # Apply the color map to the mask\n",
    "        for cluster_id in unique_clusters:\n",
    "            if cluster_id in celltype_def:\n",
    "                celltype = celltype_def[int(cluster_id)]\n",
    "                mask_colored[mask_copy == cluster_id] = category_colors[celltype]\n",
    "            else:\n",
    "                # Assign black color to clusters not in celltype_def\n",
    "                mask_colored[mask_copy == cluster_id] = [0, 0, 0]\n",
    "        \n",
    "        # Display the mask with the black background and colored clusters\n",
    "        tf.imwrite(str(output_dir / f\"MMStack_Pos{pos}.ome.tif\"), mask_colored)\n",
    "    except:\n",
    "        continue"
   ]
  },
  {
   "cell_type": "code",
   "execution_count": null,
   "id": "9dee7362-8341-4e86-8c94-ee2316d79e06",
   "metadata": {},
   "outputs": [],
   "source": []
  }
 ],
 "metadata": {
  "kernelspec": {
   "display_name": "Python 3.10 (my_env)",
   "language": "python",
   "name": "my_env"
  },
  "language_info": {
   "codemirror_mode": {
    "name": "ipython",
    "version": 3
   },
   "file_extension": ".py",
   "mimetype": "text/x-python",
   "name": "python",
   "nbconvert_exporter": "python",
   "pygments_lexer": "ipython3",
   "version": "3.10.16"
  }
 },
 "nbformat": 4,
 "nbformat_minor": 5
}
